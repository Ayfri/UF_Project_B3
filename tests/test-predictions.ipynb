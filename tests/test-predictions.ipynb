{
 "cells": [
  {
   "cell_type": "code",
   "execution_count": 1,
   "id": "initial_id",
   "metadata": {
    "ExecuteTime": {
     "end_time": "2024-07-09T12:11:06.765864Z",
     "start_time": "2024-07-09T12:11:01.431781Z"
    },
    "collapsed": true
   },
   "outputs": [],
   "source": [
    "# Import necessary libraries\n",
    "import pandas as pd\n",
    "import numpy as np\n",
    "import matplotlib.pyplot as plt\n",
    "from sklearn.linear_model import LinearRegression\n",
    "from sklearn.metrics import mean_squared_error\n",
    "\n",
    "from bq.queries import run_query"
   ]
  },
  {
   "cell_type": "code",
   "execution_count": null,
   "id": "5a664e8421d69942",
   "metadata": {
    "ExecuteTime": {
     "end_time": "2024-07-09T12:12:19.980422Z",
     "start_time": "2024-07-09T12:11:54.942249Z"
    }
   },
   "outputs": [],
   "source": [
    "# Load the data\n",
    "events = pd.DataFrame(\n",
    "\trun_query(\n",
    "\t\t\"\"\"\n",
    "\t\tSELECT SQLDATE\n",
    "\t\tFROM `gdelt-bq.gdeltv2.events`\n",
    "\t\tWHERE SQLDATE IS NOT NULL\n",
    "\t\tORDER BY rand()\n",
    "\t\tLIMIT 100000\n",
    "\t\t\"\"\",\n",
    "\t\tdebug=True\n",
    "\t)\n",
    ")\n",
    "\n",
    "events.sample(n=10)"
   ]
  },
  {
   "cell_type": "code",
   "execution_count": null,
   "id": "e3cfb062723328bf",
   "metadata": {
    "ExecuteTime": {
     "end_time": "2024-07-09T12:12:20.088534Z",
     "start_time": "2024-07-09T12:12:19.981431Z"
    }
   },
   "outputs": [],
   "source": [
    "# Convert SQLDATE to datetime\n",
    "events['Date'] = pd.to_datetime(events['SQLDATE'], format='%Y%m%d')\n",
    "\n",
    "# Extract the year\n",
    "events['Year'] = events['Date'].dt.year\n",
    "\n",
    "# Count the number of events per year\n",
    "events_per_year = events['Year'].value_counts().sort_index().reset_index()\n",
    "events_per_year.columns = ['Year', 'EventCount']\n",
    "\n",
    "events_per_year"
   ]
  },
  {
   "cell_type": "code",
   "execution_count": null,
   "id": "75245d53a53f8a0e",
   "metadata": {
    "ExecuteTime": {
     "end_time": "2024-07-09T12:12:26.783651Z",
     "start_time": "2024-07-09T12:12:26.536579Z"
    }
   },
   "outputs": [],
   "source": [
    "# Plot the events per year\n",
    "plt.figure(figsize=(12, 6))\n",
    "plt.plot(events_per_year['Year'], events_per_year['EventCount'], marker='o')\n",
    "plt.xlabel('Year')\n",
    "plt.ylabel('Number of Events')\n",
    "plt.title('Number of Events per Year')\n",
    "plt.grid(True)\n",
    "plt.show()"
   ]
  },
  {
   "cell_type": "code",
   "execution_count": null,
   "id": "bcea1f7edcf5c052",
   "metadata": {
    "ExecuteTime": {
     "end_time": "2024-07-09T12:12:37.290785Z",
     "start_time": "2024-07-09T12:12:37.259476Z"
    }
   },
   "outputs": [],
   "source": [
    "# Prepare the data for linear regression\n",
    "X = events_per_year[['Year']]\n",
    "y = events_per_year['EventCount']\n",
    "\n",
    "# Create and train the model\n",
    "model = LinearRegression()\n",
    "model.fit(X, y)"
   ]
  },
  {
   "cell_type": "code",
   "execution_count": 36,
   "id": "bab2466f53a5d0ef",
   "metadata": {
    "ExecuteTime": {
     "end_time": "2024-07-09T14:46:54.832545Z",
     "start_time": "2024-07-09T14:46:54.819096Z"
    }
   },
   "outputs": [
    {
     "name": "stdout",
     "output_type": "stream",
     "text": [
      "Predicted number of events for 2025: 6630, [6629.99735782]\n"
     ]
    }
   ],
   "source": [
    "# Predict the number of events for the next year\n",
    "next_year = pd.DataFrame([events_per_year['Year'].max() + 1], columns=['Year'])\n",
    "predicted_event_count = model.predict(next_year)\n",
    "\n",
    "# Print the predicted event count\n",
    "print(f'Predicted number of events for {next_year.iloc[0, 0]}: {predicted_event_count[0]:.0f}')"
   ]
  },
  {
   "cell_type": "code",
   "execution_count": null,
   "id": "7889a160d36b02e",
   "metadata": {
    "ExecuteTime": {
     "end_time": "2024-07-09T12:13:41.389293Z",
     "start_time": "2024-07-09T12:13:41.144416Z"
    }
   },
   "outputs": [],
   "source": [
    "# Plot the predictions\n",
    "plt.figure(figsize=(12, 6))\n",
    "plt.plot(events_per_year['Year'], events_per_year['EventCount'], marker='o', label='Actual')\n",
    "plt.plot(next_year, predicted_event_count, marker='x', markersize=10, color='red', label='Predicted')\n",
    "plt.xlabel('Year')\n",
    "plt.ylabel('Number of Events')\n",
    "plt.title('Number of Events per Year with Prediction')\n",
    "plt.legend()\n",
    "plt.grid(True)\n",
    "plt.show()"
   ]
  }
 ],
 "metadata": {
  "kernelspec": {
   "display_name": "Python 3",
   "language": "python",
   "name": "python3"
  },
  "language_info": {
   "codemirror_mode": {
    "name": "ipython",
    "version": 2
   },
   "file_extension": ".py",
   "mimetype": "text/x-python",
   "name": "python",
   "nbconvert_exporter": "python",
   "pygments_lexer": "ipython2",
   "version": "2.7.6"
  }
 },
 "nbformat": 4,
 "nbformat_minor": 5
}
