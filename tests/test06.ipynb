{
 "cells": [
  {
   "cell_type": "code",
   "execution_count": 26,
   "id": "26cb5ce383146eb0",
   "metadata": {
    "ExecuteTime": {
     "end_time": "2024-07-09T14:31:18.826984Z",
     "start_time": "2024-07-09T14:31:18.821877Z"
    },
    "collapsed": true
   },
   "outputs": [],
   "source": [
    "\n",
    "import matplotlib.pyplot as plt\n",
    "import pandas as pd\n",
    "\n",
    "from bq.queries import run_query"
   ]
  },
  {
   "cell_type": "code",
   "execution_count": null,
   "id": "initial_id",
   "metadata": {
    "ExecuteTime": {
     "end_time": "2024-07-09T16:32:20.200445Z",
     "start_time": "2024-07-09T16:32:17.268708Z"
    }
   },
   "outputs": [],
   "source": [
    "# GDelt project\n",
    "events = pd.DataFrame(\n",
    "\trun_query(\n",
    "\t\t\"\"\"\n",
    "\t\tselect eventcode, nummentions, avgtone, goldsteinscale, sqldate\n",
    "\t\tfrom `gdelt-bq.gdeltv2.events` \n",
    "\t\torder by rand()\n",
    "\t\tlimit 500000\n",
    "\t\t\"\"\",\n",
    "\t\tdebug=True\n",
    "\t)\n",
    ")\n",
    "\n",
    "# Remove rows with date older than 1970\n",
    "events = events[events['sqldate'] > 19700000]\n",
    "\n",
    "events.head(n=20)"
   ]
  },
  {
   "cell_type": "code",
   "execution_count": 47,
   "id": "5a9808fe1816cee2",
   "metadata": {
    "ExecuteTime": {
     "end_time": "2024-07-09T16:33:53.958274Z",
     "start_time": "2024-07-09T16:33:53.899679Z"
    }
   },
   "outputs": [],
   "source": [
    "# { event_code: event_name }\n",
    "event_codes = pd.read_json('../data/cameo_mapping.json', orient='index')\n",
    "event_codes = event_codes.rename(columns={0: 'description'})\n",
    "event_codes = event_codes.reset_index().rename(columns={'index': 'eventcode'})\n",
    "\n",
    "events['eventcode'] = events['eventcode'].astype(str)\n",
    "event_codes['eventcode'] = event_codes['eventcode'].astype(str)"
   ]
  },
  {
   "cell_type": "code",
   "execution_count": null,
   "id": "dd785cc866c36f26",
   "metadata": {
    "ExecuteTime": {
     "end_time": "2024-07-09T14:31:21.741205Z",
     "start_time": "2024-07-09T14:31:21.732422Z"
    }
   },
   "outputs": [],
   "source": [
    "event_codes.head(n=20)"
   ]
  },
  {
   "cell_type": "code",
   "execution_count": null,
   "id": "84446eb37c0963d7",
   "metadata": {
    "ExecuteTime": {
     "end_time": "2024-07-09T16:33:55.804005Z",
     "start_time": "2024-07-09T16:33:55.299972Z"
    }
   },
   "outputs": [],
   "source": [
    "plt.figure(figsize=(10, 6))\n",
    "plt.hist(events['nummentions'], bins=30, color='blue', alpha=0.7)\n",
    "plt.xlabel('NumMentions')\n",
    "plt.ylabel('Frequency')\n",
    "plt.title('Histogram of NumMentions')\n",
    "plt.show()"
   ]
  },
  {
   "cell_type": "code",
   "execution_count": null,
   "id": "2472ef7584a4bcec",
   "metadata": {
    "ExecuteTime": {
     "end_time": "2024-07-09T16:33:57.641526Z",
     "start_time": "2024-07-09T16:33:57.134403Z"
    }
   },
   "outputs": [],
   "source": [
    "plt.figure(figsize=(10, 6))\n",
    "plt.hist(events['avgtone'], bins=30, color='blue', alpha=0.7)\n",
    "plt.xlabel('AvgTone')\n",
    "plt.ylabel('Frequency')\n",
    "plt.title('Histogram of avgtone')\n",
    "plt.show()"
   ]
  },
  {
   "cell_type": "code",
   "execution_count": null,
   "id": "f95ca961c393752e",
   "metadata": {
    "ExecuteTime": {
     "end_time": "2024-07-09T14:31:22.938944Z",
     "start_time": "2024-07-09T14:31:22.205602Z"
    }
   },
   "outputs": [],
   "source": [
    "plt.figure(figsize=(10, 6))\n",
    "plt.hist(events['goldsteinscale'], bins=30, color='blue', alpha=0.7)\n",
    "plt.xlabel('GoldsteinScale')\n",
    "plt.ylabel('Frequency')\n",
    "plt.title('Histogram of GoldsteinScale')\n",
    "plt.show()"
   ]
  },
  {
   "cell_type": "code",
   "execution_count": null,
   "id": "1d89df515ea42d41",
   "metadata": {
    "ExecuteTime": {
     "end_time": "2024-07-09T16:34:15.803121Z",
     "start_time": "2024-07-09T16:34:15.727257Z"
    }
   },
   "outputs": [],
   "source": [
    "# Group by eventcode and sum the GoldsteinScale\n",
    "events_grouped = events.groupby('eventcode')['goldsteinscale'].sum().reset_index()\n",
    "events_grouped = events_grouped.sort_values('goldsteinscale', ascending=False)\n",
    "events_grouped"
   ]
  },
  {
   "cell_type": "code",
   "execution_count": null,
   "id": "93ed02775abdb633",
   "metadata": {
    "ExecuteTime": {
     "end_time": "2024-07-09T16:34:27.533370Z",
     "start_time": "2024-07-09T16:34:27.317561Z"
    }
   },
   "outputs": [],
   "source": [
    "events['eventcode'] = events['eventcode'].astype(str).str.lstrip('0')\n",
    "# Merge with event_codes to get the description\n",
    "events_grouped = events_grouped.merge(event_codes, on='eventcode', how='left')\n",
    "# filter out events_grouped without Description\n",
    "events_grouped = events_grouped[events_grouped['description'].notnull()]\n",
    "events_grouped"
   ]
  },
  {
   "cell_type": "code",
   "execution_count": null,
   "id": "a23599599a294d55",
   "metadata": {
    "ExecuteTime": {
     "end_time": "2024-07-09T16:34:39.888634Z",
     "start_time": "2024-07-09T16:34:38.548871Z"
    }
   },
   "outputs": [],
   "source": [
    "# Sort by GoldsteinScale and get the top 10 events\n",
    "top_events = events_grouped.nlargest(10, 'goldsteinscale')\n",
    "\n",
    "# Plot the results\n",
    "plt.figure(figsize=(12, 8))\n",
    "plt.barh(top_events['description'], top_events['goldsteinscale'], color='skyblue')\n",
    "plt.xlabel('Cumulative GoldsteinScale')\n",
    "plt.title('Top 10 Events Occurence by Cumulative GoldsteinScale')\n",
    "plt.gca().invert_yaxis()  # Invert y axis to have the highest value at the top\n",
    "plt.grid(axis='x', linestyle='-.', alpha=0.3, which='minor')  # Add gridlines\n",
    "plt.grid(axis='x', linestyle='-', alpha=0.5, which='major')  # Add gridlines\n",
    "plt.minorticks_on()  # Add minor ticks\n",
    "# Highlight the bars with the highest value\n",
    "plt.gca().patches[0].set_facecolor('salmon')\n",
    "plt.show()"
   ]
  },
  {
   "cell_type": "code",
   "execution_count": null,
   "id": "edc23977c621d328",
   "metadata": {
    "ExecuteTime": {
     "end_time": "2024-07-09T16:34:56.323857Z",
     "start_time": "2024-07-09T16:34:55.394626Z"
    }
   },
   "outputs": [],
   "source": [
    "# Show a plot showing 10 lines : one for each of the top 10 events each year\n",
    "# Get the top 10 events more present in the dataset, do not use GoldsteinScale\n",
    "top_events = events['eventcode'].value_counts().nlargest(10).index\n",
    "\n",
    "# Filter events to include only top 10 event codes\n",
    "filtered_events = events[events['eventcode'].isin(top_events)].copy()\n",
    "\n",
    "# Extract year from SQLDATE\n",
    "filtered_events['year'] = filtered_events['sqldate'].astype(str).str[:4].astype(int)\n",
    "\n",
    "# Group by year and event code, then count occurrences\n",
    "event_counts = filtered_events.groupby(['year', 'eventcode']).size().unstack(fill_value=0)\n",
    "\n",
    "# Plot the data\n",
    "plt.figure(figsize=(12, 8))\n",
    "for event_code in top_events:\n",
    "\t# do not show number of events, but quantity of events\n",
    "\tlabel = event_codes[event_codes['eventcode'] == event_code]['description'].values[0]\n",
    "\tfraction = event_counts[event_code] / event_counts.sum(axis=1)\n",
    "\tplt.plot(event_counts.index, event_counts[event_code], label=label)\n",
    "\n",
    "plt.xlabel('Year')\n",
    "plt.ylabel('Number of Events')\n",
    "plt.title('Top 10 Event Codes Over the Years')\n",
    "plt.legend(title='Event Code')\n",
    "plt.show()"
   ]
  }
 ],
 "metadata": {
  "kernelspec": {
   "display_name": "Python 3",
   "language": "python",
   "name": "python3"
  },
  "language_info": {
   "codemirror_mode": {
    "name": "ipython",
    "version": 2
   },
   "file_extension": ".py",
   "mimetype": "text/x-python",
   "name": "python",
   "nbconvert_exporter": "python",
   "pygments_lexer": "ipython2",
   "version": "2.7.6"
  }
 },
 "nbformat": 4,
 "nbformat_minor": 5
}
